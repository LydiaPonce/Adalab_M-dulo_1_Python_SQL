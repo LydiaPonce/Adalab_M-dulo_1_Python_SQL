{
 "cells": [
  {
   "cell_type": "markdown",
   "metadata": {},
   "source": [
    "EJERCICIO 1: Calculadora de puntos."
   ]
  },
  {
   "cell_type": "code",
   "execution_count": 24,
   "metadata": {},
   "outputs": [
    {
     "name": "stdout",
     "output_type": "stream",
     "text": [
      "..... + ............... => ....................\n",
      "..... - ... => ..\n",
      "..... * ... => ...............\n",
      "..... // .. => ..\n",
      ". // .. => \n",
      ".. - .. => \n"
     ]
    }
   ],
   "source": [
    "\n",
    "def restar(x,n): \n",
    "    if x > n:\n",
    "        return x - n\n",
    "    if x < n:\n",
    "        return n - x\n",
    "    return 0\n",
    "\n",
    "def calculadora(str_original):\n",
    "\n",
    "    str_dividido = str_original.split()\n",
    "    x = len(str_dividido[0])\n",
    "    operador = str_dividido[1]\n",
    "    n = len(str_dividido[2])\n",
    "\n",
    "    if operador == '+':\n",
    "        resultado = x + n\n",
    "    if operador == '-':\n",
    "        resultado = restar(x,n)\n",
    "    if operador == '*':\n",
    "        resultado = x * n\n",
    "    if operador == '//':\n",
    "        resultado = x // n\n",
    "    \n",
    "    punto_resultado = resultado * '.'\n",
    "    print(str_original, '=>', (\".\" * resultado))\n",
    "\n",
    "calculadora(\"..... + ...............\")\n",
    "calculadora(\"..... - ...\")\n",
    "calculadora(\"..... * ...\")\n",
    "calculadora(\"..... // ..\")\n",
    "calculadora(\". // ..\")\n",
    "calculadora(\".. - ..\")"
   ]
  },
  {
   "cell_type": "markdown",
   "metadata": {},
   "source": [
    "EJERCICIO 2: Te despides de tu mejor amigo, \"Nos vemos el próximo año\".\n",
    "- Año por supuesto siempre positivo .\n",
    "- El siguiente año que le felicites a tu mejor amigo no puede tener ningún dígito repetido."
   ]
  },
  {
   "cell_type": "code",
   "execution_count": null,
   "metadata": {},
   "outputs": [],
   "source": [
    "\n",
    "#Probad la función con los siguientes casos:\n",
    "\n",
    "#del cumpleaños\n",
    "\n",
    "#7712 ==> El siguiente año que felicitarás a tu amigo será el 7801. \n",
    "#Por que es el siguiente año en el que no hay ninguún dígito repetido. \n",
    "\n",
    "#1001 => 1023 \n",
    "#1123 => 1203\n",
    "#2001 => 2013\n",
    "#ok\n",
    "\n"
   ]
  },
  {
   "cell_type": "markdown",
   "metadata": {},
   "source": [
    "EJERCICIO 3.\n",
    "Tenéis que crear un función que chequee la vida de un evaporador que contiene un gas.\n",
    "Conocemos el contenido del evaporador (contenido en ml), el porcentaje de gas que se pierde cada día y el umbral en porcentaje a partir del cual el evaporador deja de ser útil. Todos los números serán estrictamente positivos.\n",
    "\n",
    "⚠️ Nota: el contenido no es, de hecho, necesario en el cuerpo de la función, podéis utilizarlo o no."
   ]
  },
  {
   "cell_type": "code",
   "execution_count": null,
   "metadata": {},
   "outputs": [],
   "source": [
    "def vida_evaporador(ml,gas,umbral):\n",
    "\n",
    "    dias = 0\n",
    "    cantidad_umbral = (ml*umbral)/100 #= 0,5%, 9,5ml\n",
    "    \n",
    "    while ml >= cantidad_umbral:\n",
    "        dias +=1\n",
    "\n",
    "        perdida = (ml*gas)/100  #0,01ml por dia\n",
    "        ml -= perdida\n",
    "\n",
    "    return dias\n",
    "    \n",
    "vida_evaporador(10, 10, 5)\n",
    "vida_evaporador(10, 10, 10)"
   ]
  },
  {
   "cell_type": "markdown",
   "metadata": {},
   "source": [
    "EJERCICIO 4:Definid una función que tome como argumento un entero y devuelva True o False dependiendo de si el número es primo o no.\n",
    "\n",
    "Según la Wikipedia, un número primo es un número natural mayor que 1 que no tiene divisores positivos más que 1 y él mismo."
   ]
  },
  {
   "cell_type": "code",
   "execution_count": 1,
   "metadata": {},
   "outputs": [
    {
     "name": "stdout",
     "output_type": "stream",
     "text": [
      "False\n",
      "True\n",
      "True\n",
      "False\n",
      "True\n"
     ]
    }
   ],
   "source": [
    "def es_primo(numero):\n",
    "\n",
    "    if numero < 2 :\n",
    "        return False\n",
    "\n",
    "    for i in range(2, numero):  #un rango desde el dos hasta el numero que nosotros elijamos\n",
    "        if numero % i == 0:    #si el resto da 0 no es primo, por lo tanto devuelve Falso\n",
    "            return False\n",
    "\n",
    "    return True    #de lo contrario devuelve Verdadero\n",
    "\n",
    "print(es_primo(0))\n",
    "print(es_primo(2))\n",
    "print(es_primo(73))\n",
    "print(es_primo(-1))\n",
    "print(es_primo(5099))"
   ]
  },
  {
   "cell_type": "markdown",
   "metadata": {},
   "source": [
    "EJERCICIO 5:\n",
    "\n",
    "Probablemente conozcais el sistema de \"me gusta\" de Facebook y otras páginas. La gente puede dar \"me gusta\" a las publicaciones del blog, a las imágenes o a otros elementos. Queremos crear el texto que debe mostrarse junto a dicho elemento.\n",
    "\n",
    "Cread una función que toma una lista que contiene los nombres de las personas a las que les gusta un artículo. Debe devolver el texto que se muestra en los ejemplos:"
   ]
  },
  {
   "cell_type": "code",
   "execution_count": 2,
   "metadata": {},
   "outputs": [
    {
     "data": {
      "text/plain": [
       "'A Alex , Jacoba y 3 le gusta esto'"
      ]
     },
     "execution_count": 2,
     "metadata": {},
     "output_type": "execute_result"
    }
   ],
   "source": [
    "  \n",
    "def me_gusta(nombres):\n",
    "    numero_nombres = len(nombres)\n",
    "    \n",
    "    if numero_nombres == 0:\n",
    "        return \"A nadie le gusta esto\"\n",
    "    if numero_nombres  == 1:\n",
    "        return ( \"A \" + nombres[0] + \" le gusta esto\")\n",
    "    if numero_nombres  == 2:\n",
    "        return ('A {} y a {} le gusta esto.').format('Jacoba', 'Alex')\n",
    "    if numero_nombres  == 3:\n",
    "        return ('A {}, {}, y a {} le gusta esto.').format('Maria', 'Juana', 'Lola')\n",
    "    if numero_nombres  >= 4:\n",
    "        return \"A \" + nombres[0] + \" , \"+ nombres[1] + \" y \" + str(numero_nombres-2) + \" le gusta esto\"\n",
    "\n",
    "me_gusta([])\n",
    "me_gusta([\"Paola\"])\n",
    "me_gusta([\"Jacoba\", \"Alex\"]) \n",
    "me_gusta([\"Maria\", \"Juana\", \"Lola\"])\n",
    "me_gusta([\"Alex\", \"Jacoba\", \"Lola\", \"Carmen\", \"Mariana\"])\n",
    "\n"
   ]
  },
  {
   "cell_type": "code",
   "execution_count": null,
   "metadata": {},
   "outputs": [],
   "source": []
  }
 ],
 "metadata": {
  "interpreter": {
   "hash": "9df72549cec875d35faaa50875d444b10c11452b268975a17c9dc6870f43870f"
  },
  "kernelspec": {
   "display_name": "Python 3.9.7 ('base')",
   "language": "python",
   "name": "python3"
  },
  "language_info": {
   "codemirror_mode": {
    "name": "ipython",
    "version": 3
   },
   "file_extension": ".py",
   "mimetype": "text/x-python",
   "name": "python",
   "nbconvert_exporter": "python",
   "pygments_lexer": "ipython3",
   "version": "3.9.7"
  },
  "orig_nbformat": 4
 },
 "nbformat": 4,
 "nbformat_minor": 2
}
