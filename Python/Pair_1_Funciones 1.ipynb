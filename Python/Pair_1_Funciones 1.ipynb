{
 "cells": [
  {
   "cell_type": "markdown",
   "metadata": {},
   "source": [
    "1. recibir 2 nº en str y dar el resultado de la suma como str"
   ]
  },
  {
   "cell_type": "code",
   "execution_count": null,
   "metadata": {},
   "outputs": [],
   "source": [
    "\n",
    "print('Probad la función para las siguientes combinaciones de números')\n",
    "\n",
    "def suma (a,b):\n",
    "    if a == \"\" and b == \"\":\n",
    "        return '0'\n",
    "    \n",
    "    if a == \"\" and b != \"\":\n",
    "        return b\n",
    "        \n",
    "    if a != \"\" and b == \"\":\n",
    "        return a\n",
    "\n",
    "    suma = int(a) + int(b)\n",
    "    return str(suma)\n",
    "\n",
    "suma('4','5')\n",
    "suma('34','5')\n",
    "suma('','')\n",
    "suma('2','')\n",
    "suma('-5','3')"
   ]
  },
  {
   "cell_type": "markdown",
   "metadata": {},
   "source": [
    "2. comparar nº enteros de 2 listas y devolver una lista con los nº grandes . # resultado = [23, 64, 53, 17, 88] "
   ]
  },
  {
   "cell_type": "code",
   "execution_count": null,
   "metadata": {},
   "outputs": [],
   "source": [
    "# Solución 1\n",
    "print('Probad la función para las siguientes listas:')\n",
    "\n",
    "def comparar (a, b):\n",
    "    lista = list(zip(a, b))\n",
    "    lista_resultado = []\n",
    "\n",
    "    for tupla in lista:\n",
    "        if tupla[0] > tupla[1]:\n",
    "            lista_resultado.append(tupla[0])\n",
    "        elif tupla[0] < tupla[1]:\n",
    "            lista_resultado.append(tupla[1]) \n",
    "        else:\n",
    "            lista_resultado.append(tupla[0])\n",
    "\n",
    "    print('resultado =', lista_resultado)\n",
    "\n",
    "a = [13, 64, 15, 17, 88]\n",
    "b = [23, 14, 53, 17, 80]\n",
    "comparar(a, b)\n",
    "\n",
    "\n",
    "# Solución 2\n",
    "\n",
    "print('Probad la función para las siguientes listas:')\n",
    "\n",
    "def comparar (a,b):\n",
    "    lista = list(zip(a,b))  #[(13, 23), (64, 14), (15, 53), (17, 17), (88, 80)]\n",
    "    lista_resultado = []\n",
    "\n",
    "    for numeros in lista:\n",
    "        lista_resultado.append(max(numeros))\n",
    "\n",
    "    return lista_resultado\n",
    "\n",
    "a = [13, 64, 15, 17, 88]\n",
    "b = [23, 14, 53, 17, 80]\n",
    "comparar(a,b)"
   ]
  },
  {
   "cell_type": "markdown",
   "metadata": {},
   "source": [
    "3. valor unico (, si se repite )\n",
    "\n",
    "Probad la función para los siguientes strings \n",
    "\n",
    "\"din\"      =>  \"(((\"\n",
    "\"recede\"   =>  \"()()()\"\n",
    "\"Success\"  =>  \")())())\"\n",
    "\"(( @\"     =>  \"))((\" \n",
    "\"Ocvl@GamFLAFkixkS\" => \"((()(()()))))(()(\""
   ]
  },
  {
   "cell_type": "code",
   "execution_count": null,
   "metadata": {},
   "outputs": [],
   "source": [
    "def valor_unico (palabra):\n",
    "    \n",
    "    repeticiones = {}\n",
    "    salida = \"\"\n",
    "    palabra = palabra.lower()\n",
    "\n",
    "    for letra in palabra:\n",
    "        if letra in repeticiones:\n",
    "            repeticiones[letra] = -1\n",
    "        else:\n",
    "            repeticiones[letra] = 1\n",
    "\n",
    "    for letra in palabra:\n",
    "        if repeticiones[letra] == 1:\n",
    "            salida += \"(\"\n",
    "        else:\n",
    "            salida += \")\"\n",
    "\n",
    "    return salida\n",
    "\n",
    "valor_unico (\"Success\")\n",
    "\n",
    "   "
   ]
  },
  {
   "cell_type": "markdown",
   "metadata": {},
   "source": [
    "4. Receta . Resultados tienen que ser Tarta =2 / Tarta = 0\n",
    "Pista: Nuestra función recibirá dos parámetros."
   ]
  },
  {
   "cell_type": "code",
   "execution_count": null,
   "metadata": {},
   "outputs": [],
   "source": [
    "print('Probad con los siguientes diccionarios:')\n",
    "\n",
    "receta = {'flour': 500, 'sugar': 200, 'eggs': 1}\n",
    "ingredientes = {'flour': 1200, 'sugar': 1200, 'eggs': 5, 'milk': 200}\n",
    "\n",
    "def numero_de_tartas(receta,ingredientes):\n",
    "   \n",
    "    n_tartas = []#2\n",
    "\n",
    "    for ingrediente in receta:\n",
    "        if ingredientes.get(ingrediente) == None:\n",
    "            return 0\n",
    "    \n",
    "        cantidad_receta = receta[ingrediente]\n",
    "        cantidad_ingredientes = ingredientes[ingrediente]\n",
    "        n_tartas.append(int(cantidad_ingredientes/cantidad_receta)) #2  \n",
    "       \n",
    "    return min(n_tartas)\n",
    "\n",
    "numero_de_tartas(receta,ingredientes)"
   ]
  },
  {
   "cell_type": "markdown",
   "metadata": {},
   "source": [
    "5. Calculadora "
   ]
  },
  {
   "cell_type": "code",
   "execution_count": 2,
   "metadata": {},
   "outputs": [
    {
     "name": "stdout",
     "output_type": "stream",
     "text": [
      "Lo siento, necesito que me pases una operacion valida, * , + \n"
     ]
    }
   ],
   "source": [
    "\n",
    "\n",
    "\n",
    "def multiplicar (numeros): #Tiene que multiplicar todos los valores de la lista\n",
    "    resultado = 1\n",
    "\n",
    "    for n in numeros:\n",
    "        resultado *= n\n",
    "    return resultado\n",
    "\n",
    "def suma(numeros): #Tiene que multiplicar todos los valores de la lista\n",
    "    resultado = 0\n",
    "\n",
    "    for n in numeros:\n",
    "        resultado += n\n",
    "    return resultado\n",
    "\n",
    "def restar(numeros): \n",
    "\n",
    "    if a > b:\n",
    "        return a - b\n",
    "    if a < b:\n",
    "        return b - a\n",
    "    return 0\n",
    "\n",
    "def calculadora(numeros,operador):\n",
    "\n",
    "    if operador == \"*\":\n",
    "        return multiplicar(numeros)\n",
    "    elif operador == \"+\":\n",
    "        return suma(numeros)\n",
    "    else:\n",
    "        print (\"Lo siento, necesito que me pases una operacion valida, * , + \")\n",
    "\n",
    "\n",
    "lista3 = [23, 4,109 , 94, 77]\n",
    "lista2 = [23,34, 56, 11, 90] \n",
    "lista1 = [11, 6, 98, 1, 2]\n",
    "calculadora(lista1,\"-\")\n"
   ]
  }
 ],
 "metadata": {
  "interpreter": {
   "hash": "9df72549cec875d35faaa50875d444b10c11452b268975a17c9dc6870f43870f"
  },
  "kernelspec": {
   "display_name": "Python 3.9.7 ('base')",
   "language": "python",
   "name": "python3"
  },
  "language_info": {
   "codemirror_mode": {
    "name": "ipython",
    "version": 3
   },
   "file_extension": ".py",
   "mimetype": "text/x-python",
   "name": "python",
   "nbconvert_exporter": "python",
   "pygments_lexer": "ipython3",
   "version": "3.9.7"
  },
  "orig_nbformat": 4
 },
 "nbformat": 4,
 "nbformat_minor": 2
}
