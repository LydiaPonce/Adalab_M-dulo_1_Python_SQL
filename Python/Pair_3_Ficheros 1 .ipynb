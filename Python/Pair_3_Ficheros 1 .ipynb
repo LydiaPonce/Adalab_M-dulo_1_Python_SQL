{
 "cells": [
  {
   "cell_type": "markdown",
   "metadata": {},
   "source": [
    "-------- PRIMERA FUNCIÓN ---------\n",
    "\n",
    "1. Nos muestre en que carpeta estamos trabajando.\n",
    "2. Cree una carpeta que se llame \"aprendiendo-ficheros\". ⚠️ Tened en cuenta que si la carpeta ya existe no la podemos crear, nos devolverá un error. Incluye en la función un programa que evite que nos de un error si la carpeta ya existe.\n",
    "3. Cree otra carpeta que se llame \"datos\" dentro de la carpeta \"aprendiendo-ficheros\". En esta carpeta \"datos\" guardaremos el fichero \"saludo.txt\" que os habéis descargado.\n",
    "4. Cambiad el directorio de trabajo a la carpeta \"datos\". Antes de seguir chequead que estáis trabajando en la carpeta \"datos\".\n",
    "5. Cambiad el nombre de la carpeta creada en el punto 2 a \"primera-toma-contacto\"\n",
    "\n",
    "💡 Pistas para resolver este ejercicio 💡\n",
    "\n",
    "1. La función tendrá que recibir 3 parámetros:\n",
    "    - El nombre del nombre de la primera carpeta\n",
    "    - El nombre de la carpeta segunda carpeta\n",
    "    - El nombre con el que queramos cambiar el nombre de la primera carpeta creada\n",
    "2. Para saber si las carpetas ya existen tendréis que usar lstdir(recordad que nos devuelve una lista de ficheros y carpetas).\n",
    "3. Para poder controlar los errores tendremos que usar un if loop, que si el fichero existe, nos devuelva un mensaje de que el fichero ya existe. En caso de que no exista, los deberéis crear y que la función nos muestre un mensaje de que se ha creado.\n",
    "4. Tendréis que ir cambiando de directorio para poder crear las carpetas y cambiar sus nombres."
   ]
  },
  {
   "cell_type": "code",
   "execution_count": null,
   "metadata": {},
   "outputs": [],
   "source": [
    "import os\n",
    "import shutil\n",
    "\n",
    "def primera_funcion(primera_carpeta, segunda_carpeta,nombre_cambio):\n",
    "\n",
    "        #1. En que carpeta estamos trabajando\n",
    "    os.getcwd()\n",
    "    \n",
    "        #2. Le preguntamos sí la carpeta existe, sino es así que la cree.\n",
    "    if os.path.exists(primera_carpeta):\n",
    "        print(\"El fichero ya existe\", primera_carpeta)\n",
    "    else:\n",
    "        os.mkdir(primera_carpeta)\n",
    "        print( \"Se ha creado el fichero\",primera_carpeta)\n",
    "\n",
    "        # ahora estoy dentro de \"aprender-ficheros\"\n",
    "    ruta_primera_carpeta = os.getcwd() + \"/\" + primera_carpeta\n",
    "    os.chdir(ruta_primera_carpeta)\n",
    "\n",
    "        #3. Le pregunto sí hay \"datos\" dentro de\"aprender-ficheros\", si no es así, que lo cree.\n",
    "    if os.path.exists(segunda_carpeta): \n",
    "        print(\"El fichero ya existe\", segunda_carpeta)\n",
    "    else:\n",
    "        os.mkdir(segunda_carpeta)\n",
    "        print( \"Se ha creado el fichero\",segunda_carpeta)\n",
    "\n",
    "        # ahora estoy dentro de \"datos\" y he marcado la ruta donde está el archivo \"saludos.txt\" al descargarlo.\n",
    "    os.chdir(os.getcwd() + \"/\" + segunda_carpeta)\n",
    "    ruta_descarga = \"/Users/lidiacarriedoponce/Downloads/saludo.txt\" # ahora estoy dentro de descargar, hay otra forma de llegar a este archivo \"./.saludo.txt\" (no me funcionaba)\n",
    "\n",
    "        # le pregunto si existe el archivo y si no es así, que lo mueva de la carpeta descarga a dentro de \"datos\"\n",
    "    if os.path.exists('saludo.txt'):\n",
    "        print(\"El fichero .txt ya existe\")\n",
    "    else:\n",
    "        shutil.move(ruta_descarga,os.getcwd())\n",
    "        print( \"Ya se ha creado el fichero txt.\") \n",
    "\n",
    "        # volvemos atrás, hasta encontrarnos en \"aprendiendo-ficheros\"\n",
    "    os.chdir(\"../\")\n",
    "    os.chdir(\"../\")\n",
    "    ruta_cambio = os.getcwd() + \"/\" + nombre_cambio\n",
    "\n",
    "        #Para cambiar de nombre \"aprender-ficheros\" ahora se llama \"primera-toma-contacto\"\n",
    "    os.rename(ruta_primera_carpeta,ruta_cambio)\n",
    "\n",
    "primera_funcion (\"aprendiendo-ficheros\",\"datos\",\"primera-toma-contacto\")\n",
    "\n"
   ]
  },
  {
   "cell_type": "markdown",
   "metadata": {},
   "source": [
    "------ SEGUNDA FUNCIÓN ------\n",
    "\n",
    "📌 Antes de empezar, recordad descargaros el fichero saludo.txt y guardarlo en el repo en el que estáis trabajando, dentro de una carpeta que se llame \"datos\".\n",
    "\n",
    "1. Lea el fichero que se llame \"saludo.txt y muestre su contenido completo.\n",
    "2. Muestra la línea 4 del fichero\n",
    "\n",
    "💡 Pistas para resolver este ejercicio 💡\n",
    "\n",
    "1. Antes de empezar, tendréis que saber cuál es vuestro directorio de trabajo.\n",
    "2. Tened en cuenta en que carpeta estáis. Si vuestro directorio de trabajo no es \"datos\" tendréis que cambiarlo o poner la ruta relativa a la carpeta \"datos\".\n",
    "3. Usar if... else para evitar que se nos pare el código.\n",
    "4. Para cambiar el fichero podréis usar el comando input para preguntar el usuario donde está el fichero y que se pueda usar la ruta relativa o absoluta."
   ]
  },
  {
   "cell_type": "code",
   "execution_count": 1,
   "metadata": {},
   "outputs": [
    {
     "name": "stdout",
     "output_type": "stream",
     "text": [
      "Hola Adalabers!!!\n",
      "\n",
      "Estamos en la sesión de pair-programming para familiarizarnos con la gestión de carpetas y ficheros desde Python 🙂🌊\n",
      "\n",
      "Esto esta siendo suuuper divertidooooo\n",
      "\n",
      "\n"
     ]
    }
   ],
   "source": [
    "import os\n",
    "import shutil\n",
    "\n",
    "def leer_archivo():\n",
    "\n",
    "    ruta_actual = os.getcwd()\n",
    "    ruta_a_datos = \"\"\n",
    "\n",
    "    entrada = input(\"Indica la ruta relativa o absoluta del fichero\") \n",
    "  \n",
    "    if os.path.isabs(entrada): #te dice si es una ruta absoluta\n",
    "        ruta_a_datos = entrada\n",
    "    else:\n",
    "        ruta_a_datos = os.path.join(ruta_actual,entrada) # añade a mi ruta actual +el input\n",
    "\n",
    "    if os.path.exists(ruta_a_datos):\n",
    "        f = open(ruta_a_datos)\n",
    "        texto = f.read() \n",
    "        print(texto)\n",
    "        f.close()\n",
    "        f = open(ruta_a_datos)\n",
    "        texto = f.readlines() \n",
    "        print(texto[3])\n",
    "        f.close()\n",
    "    else: \n",
    "        print(\"El archivo no existe, en la ruta indicada.\")\n",
    "\n",
    "\n",
    "leer_archivo()"
   ]
  }
 ],
 "metadata": {
  "interpreter": {
   "hash": "40d3a090f54c6569ab1632332b64b2c03c39dcf918b08424e98f38b5ae0af88f"
  },
  "kernelspec": {
   "display_name": "Python 3.9.7 ('base')",
   "language": "python",
   "name": "python3"
  },
  "language_info": {
   "codemirror_mode": {
    "name": "ipython",
    "version": 3
   },
   "file_extension": ".py",
   "mimetype": "text/x-python",
   "name": "python",
   "nbconvert_exporter": "python",
   "pygments_lexer": "ipython3",
   "version": "3.9.7"
  },
  "orig_nbformat": 4
 },
 "nbformat": 4,
 "nbformat_minor": 2
}
